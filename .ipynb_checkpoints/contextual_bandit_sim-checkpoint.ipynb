{
 "cells": [
  {
   "cell_type": "code",
   "execution_count": 1,
   "metadata": {},
   "outputs": [],
   "source": [
    "%matplotlib inline\n",
    "import numpy as np\n",
    "from matplotlib import pylab as plt\n",
    "#from mpltools import style # uncomment for prettier plots\n",
    "#style.use(['ggplot'])\n",
    "\n",
    "import OnlineVariance\n",
    "import DataGenerator\n",
    "import BinaryStrategy\n",
    "import PositiveStrategy\n",
    "import Simulator"
   ]
  },
  {
   "cell_type": "code",
   "execution_count": 27,
   "metadata": {},
   "outputs": [],
   "source": [
    "arms=3\n",
    "features=5\n",
    "rewardType='positive'\n",
    "#rewardType='binary'\n",
    "featureType='integer'\n",
    "#featureType='binary'\n",
    "\n",
    "# define number of samples and number of choices\n",
    "num_samples = 10000\n",
    "num_batches = 100\n",
    "num_experiments = 3\n",
    "\n",
    "dg = DataGenerator.DataGenerator(arms,features,feature_type=featureType,reward_type=rewardType)\n"
   ]
  },
  {
   "cell_type": "code",
   "execution_count": null,
   "metadata": {
    "scrolled": true
   },
   "outputs": [
    {
     "name": "stdout",
     "output_type": "stream",
     "text": [
      "experiment: 0\n",
      "<PositiveStrategy.PositiveStrategy object at 0x0000025DE9ADC310>\n",
      "10000\n",
      "10000\n",
      "10000\n",
      "10000\n",
      "10000\n",
      "10000\n",
      "10000\n",
      "10000\n",
      "10000\n",
      "10000\n",
      "10000\n",
      "10000\n",
      "10000\n",
      "10000\n",
      "10000\n",
      "10000\n",
      "10000\n",
      "10000\n",
      "10000\n",
      "10000\n",
      "10000\n",
      "10000\n",
      "10000\n",
      "10000\n",
      "10000\n",
      "10000\n",
      "10000\n",
      "10000\n",
      "10000\n",
      "10000\n",
      "10000\n",
      "10000\n",
      "10000\n",
      "10000\n",
      "10000\n",
      "10000\n",
      "10000\n",
      "10000\n",
      "10000\n",
      "10000\n",
      "10000\n",
      "10000\n",
      "10000\n",
      "10000\n",
      "10000\n",
      "10000\n",
      "10000\n",
      "10000\n",
      "10000\n",
      "10000\n",
      "10000\n",
      "10000\n",
      "10000\n",
      "10000\n",
      "10000\n",
      "10000\n",
      "10000\n",
      "10000\n",
      "10000\n",
      "10000\n",
      "10000\n",
      "10000\n",
      "10000\n",
      "10000\n",
      "10000\n",
      "10000\n",
      "10000\n",
      "10000\n",
      "10000\n",
      "10000\n",
      "10000\n",
      "10000\n",
      "10000\n",
      "10000\n",
      "10000\n",
      "10000\n",
      "10000\n",
      "10000\n",
      "10000\n",
      "10000\n",
      "10000\n",
      "10000\n",
      "10000\n",
      "10000\n",
      "10000\n",
      "10000\n"
     ]
    }
   ],
   "source": [
    "total_regret = []\n",
    "total_rmse = []\n",
    "\n",
    "for e in range(0,num_experiments):\n",
    "    print(\"experiment: %d\" % e)\n",
    "    \n",
    "    #appropriate model for reward_type='positive' or reward_type='mixed'\n",
    "    \n",
    "    positiveStrategy = PositiveStrategy.PositiveStrategy(arms,features)\n",
    "    print(positiveStrategy)\n",
    "    simulator = Simulator.Simulator(positiveStrategy)\n",
    "    \n",
    "    previous_rmse = 0.\n",
    "#     if previous_rmse == 0:\n",
    "#         initial_rmse = rmse[0][-1]\n",
    "    \n",
    "    for b in range(0,num_batches):\n",
    "        (sample_features, sample_rewards) = dg.generate_samples(num_samples)    \n",
    "        regret, rmse = simulator.simulate(sample_features, sample_rewards, dg.W)\n",
    "        \n",
    "        if previous_rmse == 0:\n",
    "            initial_rmse = rmse[0][-1]\n",
    "            previous_rmse = rmse[0][-1]\n",
    "        #print \"\\tbatch: %d, started at: %f, now: %f\" % (b, abs(initial_rmse), abs(rmse[0][-1]))\n",
    "        if (len(total_rmse) == 0):\n",
    "            total_rmse = rmse\n",
    "            total_regret = regret\n",
    "        else:\n",
    "            total_rmse += rmse\n",
    "            total_regret += regret\n",
    "#appropriate model for reward_type='binary'\n",
    "#binaryStrategy = BinaryStrategy.BinaryStrategy(arms,features)\n",
    "#regret,delta = binaryStrategy.simulate(sample_features,sample_rewards,dg.W)\n",
    "\n",
    "mean_regret = total_regret / num_experiments\n",
    "mean_rmse   = total_rmse   / num_experiments\n"
   ]
  },
  {
   "cell_type": "code",
   "execution_count": 14,
   "metadata": {},
   "outputs": [
    {
     "data": {
      "text/plain": [
       "array([[1, 4, 2, 1, 3],\n",
       "       [1, 0, 4, 4, 4],\n",
       "       [4, 1, 2, 4, 0],\n",
       "       ...,\n",
       "       [1, 1, 1, 2, 3],\n",
       "       [4, 4, 1, 2, 4],\n",
       "       [3, 1, 0, 1, 1]])"
      ]
     },
     "execution_count": 14,
     "metadata": {},
     "output_type": "execute_result"
    }
   ],
   "source": [
    "sample_features"
   ]
  },
  {
   "cell_type": "code",
   "execution_count": 15,
   "metadata": {},
   "outputs": [
    {
     "data": {
      "text/plain": [
       "array([[ 8.03076287,  1.29386402,  9.24249231],\n",
       "       [ 0.51350759,  2.81264559,  1.54206583],\n",
       "       [ 3.75909676,  3.05804997,  2.31172734],\n",
       "       ...,\n",
       "       [ 0.98470699,  3.56061819,  7.31306068],\n",
       "       [ 3.88449914,  4.25572271, 14.98352426],\n",
       "       [ 1.68161454,  1.94753088,  9.00104967]])"
      ]
     },
     "execution_count": 15,
     "metadata": {},
     "output_type": "execute_result"
    }
   ],
   "source": [
    "a - 0.0025 * beam_size"
   ]
  },
  {
   "cell_type": "code",
   "execution_count": 20,
   "metadata": {},
   "outputs": [
    {
     "data": {
      "text/plain": [
       "91.35243277775717"
      ]
     },
     "execution_count": 20,
     "metadata": {},
     "output_type": "execute_result"
    }
   ],
   "source": [
    "positiveStrategy.estimate(0,[1, 4, 2, 1, 3])\n",
    "positiveStrategy.estimate(1,[1, 4, 2, 1, 3])\n",
    "positiveStrategy.estimate(2,[1, 4, 2, 1, 3])"
   ]
  },
  {
   "cell_type": "code",
   "execution_count": 93,
   "metadata": {
    "scrolled": true
   },
   "outputs": [],
   "source": [
    "#print dg.W\n",
    "#print positiveStrategy.mu()\n",
    "#print sample_rewards\n",
    "#print np.cumsum(total_regret / num_experiments)"
   ]
  },
  {
   "cell_type": "code",
   "execution_count": 2,
   "metadata": {},
   "outputs": [
    {
     "data": {
      "text/plain": [
       "[<matplotlib.lines.Line2D at 0x2ba7e668fa0>]"
      ]
     },
     "execution_count": 2,
     "metadata": {},
     "output_type": "execute_result"
    },
    {
     "data": {
      "image/png": "[encoded data removed]",
      "text/plain": [
       "<Figure size 432x288 with 1 Axes>"
      ]
     },
     "metadata": {
      "needs_background": "light"
     },
     "output_type": "display_data"
    }
   ],
   "source": [
    "import pickle\n",
    "from matplotlib import pylab as plt\n",
    "positiveStrategy,simulator, records, total_regret = pickle.load(open(\"surprise_bandit_epoch_0\",'rb'))\n",
    "plt.semilogy(total_regret[:100])"
   ]
  },
  {
   "cell_type": "code",
   "execution_count": 25,
   "metadata": {},
   "outputs": [
    {
     "data": {
      "image/png": "[encoded data removed]",
      "text/plain": [
       "<Figure size 432x288 with 1 Axes>"
      ]
     },
     "metadata": {
      "needs_background": "light"
     },
     "output_type": "display_data"
    }
   ],
   "source": [
    "#regret_accumulator = np.cumsum(sample_regret)\n",
    "#np.cumsum(sample_regret)\n",
    "plt.semilogy(np.cumsum(mean_regret)/num_experiments)\n",
    "plt.title('Simulated Bandit Performance for K = ' + str(arms))\n",
    "plt.ylabel('Cumulative Expected Regret')\n",
    "plt.xlabel('Round Index')\n",
    "# plt.legend(('Random','Naive','Epsilon-Greedy','(1 - 1/t) UCB','95% UCB',\"thompson\", \"thomson normal\"),loc='lower right')\n",
    "plt.show()"
   ]
  },
  {
   "cell_type": "code",
   "execution_count": 26,
   "metadata": {},
   "outputs": [
    {
     "data": {
      "image/png": "[encoded data removed]",
      "text/plain": [
       "<Figure size 432x288 with 1 Axes>"
      ]
     },
     "metadata": {
      "needs_background": "light"
     },
     "output_type": "display_data"
    }
   ],
   "source": [
    "#regret_accumulator = np.cumsum(sample_regret)\n",
    "#np.cumsum(sample_regret)\n",
    "plt.semilogx(mean_rmse/num_experiments)\n",
    "plt.title('Simulated Bandit Performance for K = ' + str(arms))\n",
    "plt.ylabel('RMSE')\n",
    "plt.xlabel('Round Index')\n",
    "#plt.legend(('Random','Naive','Epsilon-Greedy','(1 - 1/t) UCB','95% UCB',\"thompson\", \"thomson normal\"),loc='lower right')\n",
    "plt.show()"
   ]
  },
  {
   "cell_type": "code",
   "execution_count": 12,
   "metadata": {},
   "outputs": [
    {
     "data": {
      "image/png": "[encoded data removed]",
      "text/plain": [
       "<Figure size 432x288 with 1 Axes>"
      ]
     },
     "metadata": {
      "needs_background": "light"
     },
     "output_type": "display_data"
    }
   ],
   "source": [
    "plt.semilogy(regret_accumulator/num_experiments)\n",
    "plt.title('Simulated Bandit Performance for K = 5')\n",
    "plt.ylabel('Cumulative Expected Regret')\n",
    "plt.xlabel('Round Index')\n",
    "#plt.legend(('Random','Naive','Epsilon-Greedy','(1 - 1/t) UCB','95% UCB',\"thompson\", \"thomson normal\"),loc='lower right')\n",
    "plt.show()"
   ]
  },
  {
   "cell_type": "code",
   "execution_count": 10,
   "metadata": {},
   "outputs": [],
   "source": [
    "regret_accumulator = np.zeros((num_samples,1))\n",
    "for i in range(num_experiments):\n",
    "#     print \"Running experiment:\", i+1\n",
    "    true_rewards,CTRs_that_generated_data = dg.generate_bernoulli_bandit_data(num_samples)\n",
    "    regret_accumulator[:,0] += dg.run_bandit_alg(true_rewards,CTRs_that_generated_data,dg.thompson_sampling)"
   ]
  },
  {
   "cell_type": "code",
   "execution_count": 13,
   "metadata": {},
   "outputs": [
    {
     "data": {
      "text/plain": [
       "array([[0.6589819 , 0.38567663, 0.93971883],\n",
       "       [0.6589819 , 0.38567663, 0.93971883],\n",
       "       [0.6589819 , 0.38567663, 0.93971883],\n",
       "       ...,\n",
       "       [0.6589819 , 0.38567663, 0.93971883],\n",
       "       [0.6589819 , 0.38567663, 0.93971883],\n",
       "       [0.6589819 , 0.38567663, 0.93971883]])"
      ]
     },
     "execution_count": 13,
     "metadata": {},
     "output_type": "execute_result"
    }
   ],
   "source": [
    "CTRs_that_generated_data"
   ]
  },
  {
   "cell_type": "code",
   "execution_count": 23,
   "metadata": {},
   "outputs": [],
   "source": [
    "stats = np.empty((arms,features),dtype=object)\n",
    "for k in range(0,arms):\n",
    "    for d in range(0,features):\n",
    "        stats[k,d] = OnlineVariance.OnlineVariance(ddof=0)\n",
    "F = np.array([0,0,1,1,0])"
   ]
  },
  {
   "cell_type": "code",
   "execution_count": 25,
   "metadata": {},
   "outputs": [
    {
     "data": {
      "text/plain": [
       "array([-0.        , -0.        ,  1.20563   , -1.25494569,  0.        ])"
      ]
     },
     "execution_count": 25,
     "metadata": {},
     "output_type": "execute_result"
    }
   ],
   "source": [
    "F * map(lambda x: np.random.normal(x.mean, x.std if x.std > 0 else 1), stats[0])"
   ]
  },
  {
   "cell_type": "code",
   "execution_count": null,
   "metadata": {
    "collapsed": true
   },
   "outputs": [],
   "source": []
  }
 ],
 "metadata": {
  "kernelspec": {
   "display_name": "Python 3",
   "language": "python",
   "name": "python3"
  },
  "language_info": {
   "codemirror_mode": {
    "name": "ipython",
    "version": 3
   },
   "file_extension": ".py",
   "mimetype": "text/x-python",
   "name": "python",
   "nbconvert_exporter": "python",
   "pygments_lexer": "ipython3",
   "version": "3.8.5"
  }
 },
 "nbformat": 4,
 "nbformat_minor": 1
}
