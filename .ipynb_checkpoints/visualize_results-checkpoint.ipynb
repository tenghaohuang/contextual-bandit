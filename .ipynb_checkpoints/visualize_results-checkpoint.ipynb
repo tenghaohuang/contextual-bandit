{
 "cells": [
  {
   "cell_type": "code",
   "execution_count": 1,
   "metadata": {},
   "outputs": [],
   "source": [
    "evaluation_4_MRR = {'medium': 47.4166666666667, 'large': 45.25000000000002, 'small': 43.66666666666667, 'planned': 47.9166666666667, 'random': 44.08333333333334}\n",
    "evaluation_4_ascore = {'medium': 379.5889999999999, 'large': 371.985, 'small': 383.034, 'planned': 375.14400000000006, 'random': 375.641}\n",
    "\n",
    "evaluation_6_MRR = {'large': 56.383333333333354, 'small': 46.866666666666696, 'medium': 45.1, 'random': 41.65000000000002, 'planned': 38.333333333333336}\n",
    "evaluation_6_ascore = {'large': 485.08900000000006, 'small': 473.7489999999999, 'medium': 472.2729999999998, 'random': 464.17799999999994, 'planned': 454.28099999999995}\n",
    "\n",
    "evaluation_8_MRR = {'random': 41.86666666666667, 'large': 46.85000000000002, 'medium': 54.783333333333374, 'small': 38.23333333333335, 'planned': 46.60000000000001}\n",
    "evaluation_8_ascore = {'random': 551.66, 'large': 564.4460000000003, 'medium': 580.4650000000001, 'small': 552.631, 'planned': 557.3929999999999}"
   ]
  },
  {
   "cell_type": "code",
   "execution_count": null,
   "metadata": {},
   "outputs": [],
   "source": [
    "import matplotlib.pyplot as plt\n",
    "\n",
    "# Plot some numbers:\n",
    "x = [4,6,8]\n",
    "x_MRR = [evaluation_4_MRR,evaluation_6_MRR,evaluation_8_MRR]\n",
    "y_mode = ['random', 'small', 'medium','large','planned']\n",
    "y_color = ['r','o','y','g','b']\n",
    "plotee = []\n",
    "for num, mode in enumerate(y_mode):\n",
    "    mode_MRR = []\n",
    "    for l in x_MRR:\n",
    "        mode_MRR.append(l[mode])\n",
    "    plotee.append((mode_MRR,y_color[num]))\n",
    "plt.plot([1, 2, 3]) \n",
    "plt.title(”Line Plot”) \n",
    "\n",
    "# Display the plot:\n",
    "plt.show()"
   ]
  }
 ],
 "metadata": {
  "kernelspec": {
   "display_name": "Python 3",
   "language": "python",
   "name": "python3"
  },
  "language_info": {
   "codemirror_mode": {
    "name": "ipython",
    "version": 3
   },
   "file_extension": ".py",
   "mimetype": "text/x-python",
   "name": "python",
   "nbconvert_exporter": "python",
   "pygments_lexer": "ipython3",
   "version": "3.8.5"
  }
 },
 "nbformat": 4,
 "nbformat_minor": 4
}
