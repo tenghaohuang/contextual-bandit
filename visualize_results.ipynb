{
 "cells": [
  {
   "cell_type": "code",
   "execution_count": 20,
   "metadata": {},
   "outputs": [],
   "source": [
    "\n",
    "evaluation_4_MRR={'large': 74.25000000000001, 'random': 43.81666666666669, 'medium': 55.28333333333335, 'planned': 33.966666666666654, 'small': 21.016666666666634}\n",
    "evaluation_4_ascore={'medium': 379.5889999999999, 'large': 371.985, 'small': 383.034, 'planned': 375.14400000000006, 'random': 375.641}\n",
    "\n",
    "evaluation_6_MRR={'large': 83.08333333333333, 'medium': 54.58333333333335, 'planned': 31.649999999999974, 'random': 37.733333333333334, 'small': 21.283333333333303}\n",
    "evaluation_6_ascore={'large': 485.08900000000006, 'small': 473.7489999999999, 'medium': 472.2729999999998, 'random': 464.17799999999994, 'planned': 454.28099999999995}\n",
    "\n",
    "evaluation_8_MRR = {'medium': 48.23333333333336, 'planned': 29.99999999999999, 'large': 88.74999999999999, 'random': 40.56666666666666, 'small': 20.783333333333296}\n",
    "evaluation_8_ascore = {'random': 551.66, 'large': 564.4460000000003, 'medium': 580.4650000000001, 'small': 552.631, 'planned': 557.3929999999999}"
   ]
  },
  {
   "cell_type": "code",
   "execution_count": 21,
   "metadata": {},
   "outputs": [
    {
     "data": {
      "image/png": "[encoded data removed]",
      "text/plain": [
       "<Figure size 432x288 with 1 Axes>"
      ]
     },
     "metadata": {
      "needs_background": "light"
     },
     "output_type": "display_data"
    }
   ],
   "source": [
    "import matplotlib.pyplot as plt\n",
    "\n",
    "# Plot some numbers:\n",
    "x = [4,6,8]\n",
    "x_MRR = [evaluation_4_MRR,evaluation_6_MRR,evaluation_8_MRR]\n",
    "y_mode = ['random', 'small', 'medium','large','planned']\n",
    "y_color = ['r','orange','y','g','b']\n",
    "plotees = []\n",
    "for num, mode in enumerate(y_mode):\n",
    "    mode_MRR = []\n",
    "    for l in x_MRR:\n",
    "        mode_MRR.append(l[mode])\n",
    "    plotees.append((mode_MRR,y_color[num]))\n",
    "\n",
    "for plotee in plotees:\n",
    "    plt.plot(x,plotee[0],plotee[1])\n",
    "plt.legend(y_mode)\n",
    "# Display the plot:\n",
    "plt.show()"
   ]
  },
  {
   "cell_type": "code",
   "execution_count": 11,
   "metadata": {},
   "outputs": [],
   "source": [
    "import pickle\n"
   ]
  },
  {
   "cell_type": "code",
   "execution_count": 19,
   "metadata": {},
   "outputs": [
    {
     "name": "stdout",
     "output_type": "stream",
     "text": [
      "('medium', 'Amar saw a ripe apple on a high branch. He felt strong legs pressing', 5.559000000000001)\n",
      "('large', 'Amar saw a ripe apple on a high branch. The first bite hurt terribly', 5.533)\n",
      "('small', 'Amar saw a ripe apple on a high branch. The young girl picked it', 5.280000000000001)\n",
      "('planned', 'Amar saw a ripe apple on a high branch. The smell hit him immediately', 5.214)\n",
      "('random', 'Amar saw a ripe apple on a high branch. The young tree shook violently', 3.9730000000000003)\n",
      "------------------------------------------------------------------------------------\n",
      "('random', 'Melissa invited Mark to the park for a picnic. His car would need running', 3.8819999999999997)\n",
      "('planned', 'Melissa invited Mark to the park for a picnic. He happily obliged her offer', 3.5909999999999997)\n",
      "('small', 'Melissa invited Mark to the park for a picnic. The kids loved eating hot', 3.5700000000000003)\n",
      "('medium', 'Melissa invited Mark to the park for a picnic. His birthday party would take', 3.36)\n",
      "('large', 'Melissa invited Mark to the park for a picnic. His birthday party would take', 3.326)\n",
      "------------------------------------------------------------------------------------\n",
      "('medium', 'Kelly was nervous to have her first day of school. The big surprise would hit', 4.53)\n",
      "('large', 'Kelly was nervous to have her first day of school. The big scary monster scare', 4.476)\n",
      "('planned', 'Kelly was nervous to have her first day of school. She felt extremely scared walking', 3.903)\n",
      "('random', 'Kelly was nervous to have her first day of school. The big scary monster scare', 3.8339999999999996)\n",
      "('small', 'Kelly was nervous to have her first day of school. She felt anxious but excited', 3.4560000000000004)\n",
      "------------------------------------------------------------------------------------\n",
      "('random', 'Jacob has been scared of clowns since he was young. The horror movie scare show', 3.9989999999999997)\n",
      "('large', 'Jacob has been scared of clowns since he was young. The scary clown scare hit', 3.048)\n",
      "('medium', 'Jacob has been scared of clowns since he was young. The scary clown scare hit', 2.476)\n",
      "('planned', 'Jacob has been scared of clowns since he was young. The scary clown scare haunted', 2.392)\n",
      "('small', 'Jacob has been scared of clowns since he was young. The scary movie theater scare', 2.3669999999999995)\n",
      "------------------------------------------------------------------------------------\n",
      "('planned', 'Diana was new in town and wanted to explore the city. The train journey felt scary', 6.156)\n",
      "('medium', 'Diana was new in town and wanted to explore the city. The train journey felt scary', 6.109999999999999)\n",
      "('small', 'Diana was new in town and wanted to explore the city. The train trip would take', 5.778)\n",
      "('random', 'Diana was new in town and wanted to explore the city. The train journey felt scary', 5.31)\n",
      "('large', 'Diana was new in town and wanted to explore the city. The train journey felt scary', 5.285)\n",
      "------------------------------------------------------------------------------------\n"
     ]
    }
   ],
   "source": [
    "eval_4 = pickle.load(open(\"evaluation_4.p\",'rb'))\n",
    "for i in eval_4[:5]:\n",
    "    for j in i:\n",
    "        print(j)\n",
    "    print('------------------------------------------------------------------------------------')"
   ]
  },
  {
   "cell_type": "code",
   "execution_count": 22,
   "metadata": {},
   "outputs": [
    {
     "name": "stdout",
     "output_type": "stream",
     "text": [
      "('medium', 'Amar saw a ripe apple on a high branch. He felt strong legs pressing', 5.559000000000001)\n",
      "('large', 'Amar saw a ripe apple on a high branch. The first bite hurt terribly', 5.533)\n",
      "('small', 'Amar saw a ripe apple on a high branch. The young girl picked it', 5.280000000000001)\n",
      "('planned', 'Amar saw a ripe apple on a high branch. The smell hit him immediately', 5.214)\n",
      "('random', 'Amar saw a ripe apple on a high branch. The young tree shook violently', 3.9730000000000003)\n",
      "------------------------------------------------------------------------------------\n",
      "('random', 'Melissa invited Mark to the park for a picnic. His car would need running', 3.8819999999999997)\n",
      "('planned', 'Melissa invited Mark to the park for a picnic. He happily obliged her offer', 3.5909999999999997)\n",
      "('small', 'Melissa invited Mark to the park for a picnic. The kids loved eating hot', 3.5700000000000003)\n",
      "('medium', 'Melissa invited Mark to the park for a picnic. His birthday party would take', 3.36)\n",
      "('large', 'Melissa invited Mark to the park for a picnic. His birthday party would take', 3.326)\n",
      "------------------------------------------------------------------------------------\n",
      "('medium', 'Kelly was nervous to have her first day of school. The big surprise would hit', 4.53)\n",
      "('large', 'Kelly was nervous to have her first day of school. The big scary monster scare', 4.476)\n",
      "('planned', 'Kelly was nervous to have her first day of school. She felt extremely scared walking', 3.903)\n",
      "('random', 'Kelly was nervous to have her first day of school. The big scary monster scare', 3.8339999999999996)\n",
      "('small', 'Kelly was nervous to have her first day of school. She felt anxious but excited', 3.4560000000000004)\n",
      "------------------------------------------------------------------------------------\n",
      "('random', 'Jacob has been scared of clowns since he was young. The horror movie scare show', 3.9989999999999997)\n",
      "('large', 'Jacob has been scared of clowns since he was young. The scary clown scare hit', 3.048)\n",
      "('medium', 'Jacob has been scared of clowns since he was young. The scary clown scare hit', 2.476)\n",
      "('planned', 'Jacob has been scared of clowns since he was young. The scary clown scare haunted', 2.392)\n",
      "('small', 'Jacob has been scared of clowns since he was young. The scary movie theater scare', 2.3669999999999995)\n",
      "------------------------------------------------------------------------------------\n",
      "('planned', 'Diana was new in town and wanted to explore the city. The train journey felt scary', 6.156)\n",
      "('medium', 'Diana was new in town and wanted to explore the city. The train journey felt scary', 6.109999999999999)\n",
      "('small', 'Diana was new in town and wanted to explore the city. The train trip would take', 5.778)\n",
      "('random', 'Diana was new in town and wanted to explore the city. The train journey felt scary', 5.31)\n",
      "('large', 'Diana was new in town and wanted to explore the city. The train journey felt scary', 5.285)\n",
      "------------------------------------------------------------------------------------\n"
     ]
    }
   ],
   "source": [
    "eval_6 = pickle.load(open(\"evaluation_6.p\",'rb'))\n",
    "for i in eval_4[:5]:\n",
    "    for j in i:\n",
    "        print(j)\n",
    "    print('------------------------------------------------------------------------------------')"
   ]
  },
  {
   "cell_type": "code",
   "execution_count": 2,
   "metadata": {},
   "outputs": [],
   "source": [
    "import pickle\n",
    "train = pickle.load(open(\"surprise_bandit_training_e_reward_epoch_0\",\"rb\"))"
   ]
  },
  {
   "cell_type": "code",
   "execution_count": 3,
   "metadata": {},
   "outputs": [
    {
     "data": {
      "text/plain": [
       "[[(1, 1.214, 2.2880000000000003, 1)],\n",
       " array([2.58319268, 2.57719686, 2.56824582])]"
      ]
     },
     "execution_count": 3,
     "metadata": {},
     "output_type": "execute_result"
    }
   ],
   "source": [
    "train[0]"
   ]
  },
  {
   "cell_type": "code",
   "execution_count": 4,
   "metadata": {},
   "outputs": [
    {
     "data": {
      "text/plain": [
       "[[(2, 1.214, 2.2880000000000003, 99999.99999999999)],\n",
       " array([2.58845412, 2.577938  , 2.56226536])]"
      ]
     },
     "execution_count": 4,
     "metadata": {},
     "output_type": "execute_result"
    }
   ],
   "source": [
    "train[1]"
   ]
  },
  {
   "cell_type": "code",
   "execution_count": 5,
   "metadata": {},
   "outputs": [
    {
     "data": {
      "text/plain": [
       "[[(3, 1.846, 3.2190000000000003, 49.483502267262075)],\n",
       " array([2.24934523, 2.75443684, 2.74080877])]"
      ]
     },
     "execution_count": 5,
     "metadata": {},
     "output_type": "execute_result"
    }
   ],
   "source": [
    "train[2]"
   ]
  },
  {
   "cell_type": "code",
   "execution_count": 6,
   "metadata": {},
   "outputs": [
    {
     "data": {
      "text/plain": [
       "[[(4, 2.5919999999999996, 4.170000000000001, 7.667944629476901)],\n",
       " array([2.25292872, 2.75042554, 2.74087495])]"
      ]
     },
     "execution_count": 6,
     "metadata": {},
     "output_type": "execute_result"
    }
   ],
   "source": [
    "train[3]"
   ]
  },
  {
   "cell_type": "code",
   "execution_count": 7,
   "metadata": {},
   "outputs": [
    {
     "data": {
      "text/plain": [
       "[[(5, 3.207, 4.714, 37.97598809484819)],\n",
       " array([2.5838126 , 2.57728434, 2.56754039])]"
      ]
     },
     "execution_count": 7,
     "metadata": {},
     "output_type": "execute_result"
    }
   ],
   "source": [
    "train[4]"
   ]
  },
  {
   "cell_type": "code",
   "execution_count": 8,
   "metadata": {},
   "outputs": [
    {
     "ename": "NameError",
     "evalue": "name 'e_reward_planned' is not defined",
     "output_type": "error",
     "traceback": [
      "\u001b[0;31m---------------------------------------------------------------------------\u001b[0m",
      "\u001b[0;31mNameError\u001b[0m                                 Traceback (most recent call last)",
      "\u001b[0;32m<ipython-input-8-978272edbcf4>\u001b[0m in \u001b[0;36m<module>\u001b[0;34m\u001b[0m\n\u001b[0;32m----> 1\u001b[0;31m \u001b[0me_reward_planned\u001b[0m\u001b[0;34m\u001b[0m\u001b[0;34m\u001b[0m\u001b[0m\n\u001b[0m\u001b[1;32m      2\u001b[0m \u001b[0mevaluation_4\u001b[0m\u001b[0;34m.\u001b[0m\u001b[0mp\u001b[0m\u001b[0;34m\u001b[0m\u001b[0;34m\u001b[0m\u001b[0m\n\u001b[1;32m      3\u001b[0m \u001b[0;34m{\u001b[0m\u001b[0;34m'large'\u001b[0m\u001b[0;34m:\u001b[0m \u001b[0;36m75.08333333333333\u001b[0m\u001b[0;34m,\u001b[0m \u001b[0;34m'random'\u001b[0m\u001b[0;34m:\u001b[0m \u001b[0;36m44.78333333333335\u001b[0m\u001b[0;34m,\u001b[0m \u001b[0;34m'medium'\u001b[0m\u001b[0;34m:\u001b[0m \u001b[0;36m56.45000000000003\u001b[0m\u001b[0;34m,\u001b[0m \u001b[0;34m'planned'\u001b[0m\u001b[0;34m:\u001b[0m \u001b[0;36m30.69999999999998\u001b[0m\u001b[0;34m,\u001b[0m \u001b[0;34m'small'\u001b[0m\u001b[0;34m:\u001b[0m \u001b[0;36m21.316666666666638\u001b[0m\u001b[0;34m}\u001b[0m\u001b[0;34m\u001b[0m\u001b[0;34m\u001b[0m\u001b[0m\n\u001b[1;32m      4\u001b[0m \u001b[0;34m{\u001b[0m\u001b[0;34m'large'\u001b[0m\u001b[0;34m:\u001b[0m \u001b[0;36m412.6680000000002\u001b[0m\u001b[0;34m,\u001b[0m \u001b[0;34m'random'\u001b[0m\u001b[0;34m:\u001b[0m \u001b[0;36m392.4010000000001\u001b[0m\u001b[0;34m,\u001b[0m \u001b[0;34m'medium'\u001b[0m\u001b[0;34m:\u001b[0m \u001b[0;36m398.7000000000001\u001b[0m\u001b[0;34m,\u001b[0m \u001b[0;34m'planned'\u001b[0m\u001b[0;34m:\u001b[0m \u001b[0;36m382.8189999999998\u001b[0m\u001b[0;34m,\u001b[0m \u001b[0;34m'small'\u001b[0m\u001b[0;34m:\u001b[0m \u001b[0;36m341.8149999999998\u001b[0m\u001b[0;34m}\u001b[0m\u001b[0;34m\u001b[0m\u001b[0;34m\u001b[0m\u001b[0m\n\u001b[1;32m      5\u001b[0m \u001b[0mevaluation_6\u001b[0m\u001b[0;34m.\u001b[0m\u001b[0mp\u001b[0m\u001b[0;34m\u001b[0m\u001b[0;34m\u001b[0m\u001b[0m\n",
      "\u001b[0;31mNameError\u001b[0m: name 'e_reward_planned' is not defined"
     ]
    }
   ],
   "source": [
    "e_reward_planned\n",
    "evaluation_4.p\n",
    "{'large': 75.08333333333333, 'random': 44.78333333333335, 'medium': 56.45000000000003, 'planned': 30.69999999999998, 'small': 21.316666666666638}\n",
    "{'large': 412.6680000000002, 'random': 392.4010000000001, 'medium': 398.7000000000001, 'planned': 382.8189999999998, 'small': 341.8149999999998}\n",
    "evaluation_6.p\n",
    "{'large': 83.25, 'medium': 54.75, 'random': 37.733333333333334, 'small': 20.966666666666633, 'planned': 31.63333333333331}\n",
    "{'large': 535.8040000000002, 'medium': 514.3010000000002, 'random': 491.5500000000001, 'small': 432.881, 'planned': 487.8100000000002}"
   ]
  },
  {
   "cell_type": "code",
   "execution_count": null,
   "metadata": {},
   "outputs": [],
   "source": [
    "gold\n",
    "{'large': 74.16666666666666, 'random': 44.23333333333335, 'medium': 56.40000000000003, 'planned': 32.783333333333324, 'small': 20.749999999999968}\n",
    "{'large': 412.6680000000002, 'random': 392.4010000000001, 'medium': 398.7000000000001, 'planned': 382.81000000000006, 'small': 341.8149999999998}\n",
    "evaluation_4.p\n",
    "{'large': 74.16666666666666, 'random': 44.23333333333335, 'medium': 56.40000000000003, 'planned': 32.783333333333324, 'small': 20.749999999999968}\n",
    "{'large': 412.6680000000002, 'random': 392.4010000000001, 'medium': 398.7000000000001, 'planned': 382.81000000000006, 'small': 341.8149999999998}"
   ]
  }
 ],
 "metadata": {
  "kernelspec": {
   "display_name": "Python 3",
   "language": "python",
   "name": "python3"
  },
  "language_info": {
   "codemirror_mode": {
    "name": "ipython",
    "version": 3
   },
   "file_extension": ".py",
   "mimetype": "text/x-python",
   "name": "python",
   "nbconvert_exporter": "python",
   "pygments_lexer": "ipython3",
   "version": "3.7.4"
  }
 },
 "nbformat": 4,
 "nbformat_minor": 4
}
